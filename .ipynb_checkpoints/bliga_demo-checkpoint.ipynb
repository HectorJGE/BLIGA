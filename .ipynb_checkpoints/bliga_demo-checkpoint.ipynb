{
 "cells": [
  {
   "cell_type": "markdown",
   "id": "cde2c9e0",
   "metadata": {},
   "source": [
    "\n",
    "# 🚀 BLIGA Demo Notebook\n",
    "\n",
    "Este notebook muestra paso a paso la implementación del algoritmo **BLIGA** \n",
    "(*Best List of Items using Genetic Algorithm*) siguiendo la descripción del artículo.\n",
    "\n",
    "Cada sección corresponde a las fases vistas en el paper:\n",
    "\n",
    "1. Dataset de ejemplo\n",
    "2. Población inicial\n",
    "3. Correlación (nivel 1 de filtrado)\n",
    "4. Selección por correlación (topX)\n",
    "5. Similitud (nivel 2 de filtrado)\n",
    "6. Operadores genéticos (crossover + mutación)\n",
    "7. Predicción con Resnick (nivel 3 de filtrado)\n",
    "8. Selección del mejor individuo\n"
   ]
  },
  {
   "cell_type": "code",
   "execution_count": 4,
   "id": "122b98b2",
   "metadata": {},
   "outputs": [],
   "source": [
    "\n",
    "import random\n",
    "from dataset_example import build_example_dataset\n",
    "from population import generate_initial_population, select_top_by_correlation\n",
    "from correlation import correlation_of_individual\n",
    "from similarity import similarity_of_individual\n",
    "from operators import one_point_crossover, mutate\n",
    "from prediction import predict_individual\n"
   ]
  },
  {
   "cell_type": "markdown",
   "id": "e84bf51a",
   "metadata": {},
   "source": [
    "\n",
    "## 1️⃣ Dataset de ejemplo\n",
    "\n",
    "Creamos un dataset pequeño de prueba con usuarios, ítems y categorías.\n"
   ]
  },
  {
   "cell_type": "code",
   "execution_count": 5,
   "id": "46983a6d",
   "metadata": {},
   "outputs": [
    {
     "name": "stdout",
     "output_type": "stream",
     "text": [
      "Usuarios y ratings: {'u1': {'I1': 5, 'I2': 4}, 'u2': {'I2': 3, 'I3': 5}, 'u3': {'I1': 2, 'I4': 4, 'I5': 3}}\n",
      "Categorías de ítems: {'I1': {'acción', 'ciencia_ficción'}, 'I2': {'acción'}, 'I3': {'romance'}, 'I4': {'ciencia_ficción', 'aventura'}, 'I5': {'drama'}, 'I6': {'acción', 'aventura'}}\n"
     ]
    }
   ],
   "source": [
    "\n",
    "data = build_example_dataset()\n",
    "print(\"Usuarios y ratings:\", data.ratings)\n",
    "print(\"Categorías de ítems:\", data.item_categories)\n"
   ]
  },
  {
   "cell_type": "markdown",
   "id": "7414fbf6",
   "metadata": {},
   "source": [
    "\n",
    "## 2️⃣ Población inicial\n",
    "\n",
    "Generamos una población de individuos (listas de ítems no calificados por el usuario activo).\n"
   ]
  },
  {
   "cell_type": "code",
   "execution_count": 6,
   "id": "8a29122c",
   "metadata": {},
   "outputs": [
    {
     "data": {
      "text/plain": [
       "[['I4', 'I3', 'I5'],\n",
       " ['I5', 'I4', 'I6'],\n",
       " ['I4', 'I6', 'I3'],\n",
       " ['I3', 'I4', 'I6'],\n",
       " ['I4', 'I3', 'I6'],\n",
       " ['I4', 'I6', 'I3']]"
      ]
     },
     "execution_count": 6,
     "metadata": {},
     "output_type": "execute_result"
    }
   ],
   "source": [
    "\n",
    "rng = random.Random(42)\n",
    "population = generate_initial_population(data, target_user=\"u1\", M=6, N=3, rng=rng)\n",
    "population\n"
   ]
  },
  {
   "cell_type": "markdown",
   "id": "c65c602a",
   "metadata": {},
   "source": [
    "\n",
    "## 3️⃣ Calcular correlación de cada individuo\n",
    "\n",
    "Primer nivel de filtrado: **correlación semántica entre ítems** usando Jaccard.\n"
   ]
  },
  {
   "cell_type": "code",
   "execution_count": 7,
   "id": "bbeaeb82",
   "metadata": {},
   "outputs": [
    {
     "data": {
      "text/plain": [
       "[(['I4', 'I3', 'I5'], 0.0),\n",
       " (['I5', 'I4', 'I6'], 0.3333333333333333),\n",
       " (['I4', 'I6', 'I3'], 0.3333333333333333),\n",
       " (['I3', 'I4', 'I6'], 0.3333333333333333),\n",
       " (['I4', 'I3', 'I6'], 0.3333333333333333),\n",
       " (['I4', 'I6', 'I3'], 0.3333333333333333)]"
      ]
     },
     "execution_count": 7,
     "metadata": {},
     "output_type": "execute_result"
    }
   ],
   "source": [
    "\n",
    "[(ind, correlation_of_individual(ind, data.item_categories)) for ind in population]\n"
   ]
  },
  {
   "cell_type": "markdown",
   "id": "7af945cb",
   "metadata": {},
   "source": [
    "\n",
    "## 4️⃣ Selección topX por correlación\n",
    "\n",
    "Nos quedamos con los individuos con mayor coherencia interna de categorías.\n"
   ]
  },
  {
   "cell_type": "code",
   "execution_count": 8,
   "id": "af0f0028",
   "metadata": {},
   "outputs": [
    {
     "data": {
      "text/plain": [
       "[['I5', 'I4', 'I6'], ['I4', 'I6', 'I3'], ['I3', 'I4', 'I6']]"
      ]
     },
     "execution_count": 8,
     "metadata": {},
     "output_type": "execute_result"
    }
   ],
   "source": [
    "\n",
    "best_corr = select_top_by_correlation(population, data, topX=0.5)\n",
    "best_corr\n"
   ]
  },
  {
   "cell_type": "markdown",
   "id": "ecd7b9f2",
   "metadata": {},
   "source": [
    "\n",
    "## 5️⃣ Similaridad de un individuo\n",
    "\n",
    "Segundo nivel de filtrado: **similitud usuario-usuario** (Pearson × Jaccard).\n"
   ]
  },
  {
   "cell_type": "code",
   "execution_count": 9,
   "id": "0e5347de",
   "metadata": {},
   "outputs": [
    {
     "name": "stdout",
     "output_type": "stream",
     "text": [
      "['I5', 'I4', 'I6'] -> similarity = 0.0\n",
      "['I4', 'I6', 'I3'] -> similarity = 0.0\n",
      "['I3', 'I4', 'I6'] -> similarity = 0.0\n"
     ]
    }
   ],
   "source": [
    "\n",
    "for ind in best_corr:\n",
    "    sim = similarity_of_individual(ind, data, target_user=\"u1\")\n",
    "    print(ind, \"-> similarity =\", sim)\n"
   ]
  },
  {
   "cell_type": "markdown",
   "id": "6a38a81d",
   "metadata": {},
   "source": [
    "\n",
    "## 6️⃣ Operadores genéticos\n",
    "\n",
    "Aplicamos **crossover** y **mutación** para generar diversidad en la población.\n"
   ]
  },
  {
   "cell_type": "code",
   "execution_count": 25,
   "id": "fd978243",
   "metadata": {},
   "outputs": [
    {
     "data": {
      "text/plain": [
       "['I5', 'I4', 'I2']"
      ]
     },
     "execution_count": 25,
     "metadata": {},
     "output_type": "execute_result"
    }
   ],
   "source": [
    "\n",
    "child = one_point_crossover(best_corr[0], best_corr[1], rng)\n",
    "child = mutate(child, list(data.item_categories.keys()), mutP=0.5, rng=rng)\n",
    "child\n"
   ]
  },
  {
   "cell_type": "markdown",
   "id": "48f5b145",
   "metadata": {},
   "source": [
    "\n",
    "## 7️⃣ Predicción con Resnick\n",
    "\n",
    "Tercer nivel de filtrado: calculamos la predicción de cada ítem del individuo y \n",
    "sumamos para obtener el fitness final del individuo.\n"
   ]
  },
  {
   "cell_type": "code",
   "execution_count": 34,
   "id": "34ce8387",
   "metadata": {},
   "outputs": [
    {
     "data": {
      "text/plain": [
       "[(['I4', 'I3', 'I5'], 13.5),\n",
       " (['I5', 'I4', 'I6'], 9.0),\n",
       " (['I4', 'I6', 'I3'], 9.0),\n",
       " (['I3', 'I4', 'I6'], 9.0),\n",
       " (['I4', 'I3', 'I6'], 9.0),\n",
       " (['I4', 'I6', 'I3'], 9.0)]"
      ]
     },
     "execution_count": 34,
     "metadata": {},
     "output_type": "execute_result"
    }
   ],
   "source": [
    "\n",
    "scored = [(ind, predict_individual(ind, \"u1\", data)) for ind in population]\n",
    "scored.sort(key=lambda t: t[1], reverse=True)\n",
    "[(ind) for ind in scored]\n"
   ]
  },
  {
   "cell_type": "markdown",
   "id": "7d145853",
   "metadata": {},
   "source": [
    "\n",
    "## 8️⃣ Selección del mejor individuo\n",
    "\n",
    "El individuo con mayor predicción total es el que se recomienda al usuario activo.\n"
   ]
  },
  {
   "cell_type": "code",
   "execution_count": 35,
   "id": "118e76d6-21a5-48db-86f8-262e2822c06c",
   "metadata": {},
   "outputs": [
    {
     "name": "stdout",
     "output_type": "stream",
     "text": [
      "\n",
      "Mejor individuo final: (['I4', 'I3', 'I5'], 13.5)\n"
     ]
    }
   ],
   "source": [
    "    best = scored[0]\n",
    "    print(\"\\nMejor individuo final:\", best)"
   ]
  },
  {
   "cell_type": "code",
   "execution_count": null,
   "id": "1c14eda3-4e25-438d-b245-764bab331ce6",
   "metadata": {},
   "outputs": [],
   "source": []
  }
 ],
 "metadata": {
  "kernelspec": {
   "display_name": "Python 3 (ipykernel)",
   "language": "python",
   "name": "python3"
  },
  "language_info": {
   "codemirror_mode": {
    "name": "ipython",
    "version": 3
   },
   "file_extension": ".py",
   "mimetype": "text/x-python",
   "name": "python",
   "nbconvert_exporter": "python",
   "pygments_lexer": "ipython3",
   "version": "3.9.6"
  }
 },
 "nbformat": 4,
 "nbformat_minor": 5
}
